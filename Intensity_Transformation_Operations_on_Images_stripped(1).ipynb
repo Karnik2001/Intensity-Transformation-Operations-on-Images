{
 "cells": [
  {
   "cell_type": "code",
   "execution_count": null,
   "metadata": {
    "id": "acY50SdiaZUt"
   },
   "outputs": [],
   "source": [
    "# Import all of the necessary libraries\n",
    "import cv2\n",
    "import numpy as np\n",
    "from google.colab.patches import cv2_imshow\n",
    "import warnings\n",
    "warnings.filterwarnings('ignore')"
   ]
  },
  {
   "cell_type": "code",
   "execution_count": null,
   "metadata": {
    "id": "KcZ5u5Oradxc"
   },
   "outputs": [],
   "source": [
    "# Load the image\n",
    "hyena = cv2.imread('/content/Hyenas2-scaled.jpg')"
   ]
  },
  {
   "cell_type": "code",
   "execution_count": null,
   "metadata": {
    "colab": {
     "base_uri": "https://localhost:8080/",
     "height": 826
    },
    "id": "wRJEiSXgiCOD",
    "outputId": "21c20abf-ef9f-4434-b727-7cb1910cc57a"
   },
   "outputs": [],
   "source": [
    "# Apply gamma correction at 0.1\n",
    "for gamma in [0.1]:\n",
    "  gamma_corrected = np.array(255*(hyena / 255) ** gamma, dtype = 'uint8')\n",
    "  cv2_imshow(gamma_corrected)"
   ]
  },
  {
   "cell_type": "code",
   "execution_count": null,
   "metadata": {
    "colab": {
     "base_uri": "https://localhost:8080/",
     "height": 826
    },
    "id": "8DQBBEgpP5WS",
    "outputId": "4dd230e5-2bf3-4cb4-d2d0-4f9eed35e632"
   },
   "outputs": [],
   "source": [
    "# Apply gamma correction at 1.5\n",
    "for gamma in [1.5]:\n",
    "  gamma_corrected = np.array(255*(hyena / 255) ** gamma, dtype = 'uint8')\n",
    "  cv2_imshow(gamma_corrected)"
   ]
  },
  {
   "cell_type": "code",
   "execution_count": null,
   "metadata": {
    "colab": {
     "base_uri": "https://localhost:8080/",
     "height": 826
    },
    "id": "jtdYcRIKP9rJ",
    "outputId": "84c508ce-648b-4f87-c295-50b25bb6e2ba"
   },
   "outputs": [],
   "source": [
    "# Apply gamma correction at 3.5\n",
    "for gamma in [3.5]:\n",
    "  gamma_corrected = np.array(255*(hyena / 255) ** gamma, dtype = 'uint8')\n",
    "  cv2_imshow(gamma_corrected)"
   ]
  },
  {
   "cell_type": "code",
   "execution_count": null,
   "metadata": {
    "colab": {
     "base_uri": "https://localhost:8080/",
     "height": 826
    },
    "id": "1I-O6QeJP9oX",
    "outputId": "dcee3d2e-576b-4ede-bd45-91e301af53ed"
   },
   "outputs": [],
   "source": [
    "# Apply gamma correction at 8.8\n",
    "for gamma in [8.8]:\n",
    "  gamma_corrected = np.array(255*(hyena / 255) ** gamma, dtype = 'uint8')\n",
    "  cv2_imshow(gamma_corrected)"
   ]
  },
  {
   "cell_type": "code",
   "execution_count": null,
   "metadata": {
    "id": "rKZ7L9a2lBw6"
   },
   "outputs": [],
   "source": [
    "def pixel(pix, r1, s1, r2, s2):\n",
    "  if (0 <= pix and pix <= r1):\n",
    "    return (s1 / r1) * pix\n",
    "  elif (r1 < pix and pix <= r2):\n",
    "    return ((s2 - s1) / (r2 - r1)) * (pix - r1) + s1\n",
    "  else:\n",
    "    return s2"
   ]
  },
  {
   "cell_type": "code",
   "execution_count": null,
   "metadata": {
    "id": "iJXVV3zIlBuA"
   },
   "outputs": [],
   "source": [
    "# Set the parameters\n",
    "r1 = 70\n",
    "s1 = 0\n",
    "r2 = 140\n",
    "s2 = 255"
   ]
  },
  {
   "cell_type": "code",
   "execution_count": null,
   "metadata": {
    "id": "MgSJVzgFlBrP"
   },
   "outputs": [],
   "source": [
    "# Vectorize the 'pixel' function for efficient array operations\n",
    "pixel_corrected = np.vectorize(pixel)"
   ]
  },
  {
   "cell_type": "code",
   "execution_count": null,
   "metadata": {
    "id": "FuQ1kzvPlBob"
   },
   "outputs": [],
   "source": [
    "# Apply the contrast stretching to the 'hyena' image\n",
    "constrast_limited = pixel_corrected(hyena,r1,s1,r2,s2)"
   ]
  },
  {
   "cell_type": "code",
   "execution_count": null,
   "metadata": {
    "colab": {
     "base_uri": "https://localhost:8080/",
     "height": 826
    },
    "id": "0aKMnePplBlt",
    "outputId": "107e99cb-2b8d-495b-ba9c-2b7d5c66a412"
   },
   "outputs": [],
   "source": [
    "# Display the image\n",
    "cv2_imshow(constrast_limited)"
   ]
  },
  {
   "cell_type": "code",
   "execution_count": null,
   "metadata": {
    "id": "3FpWv4mhlBjE"
   },
   "outputs": [],
   "source": [
    "# Create a second piecewise linear transformation function\n",
    "def pixelVal(pix, r1, s1, r2, s2):\n",
    "    if (0 <= pix and pix <= r1):\n",
    "        return (s1 / r1)*pix\n",
    "    elif (r1 < pix and pix <= r2):\n",
    "        return ((s2 - s1)/(r2 - r1)) * (pix - r1) + s1\n",
    "    else:\n",
    "        return ((255 - s2)/(255 - r2)) * (pix - r2) + s2"
   ]
  },
  {
   "cell_type": "code",
   "execution_count": null,
   "metadata": {
    "id": "gqidJV2qmW-L"
   },
   "outputs": [],
   "source": [
    "pixel_corrected = np.vectorize(pixelVal)"
   ]
  },
  {
   "cell_type": "code",
   "execution_count": null,
   "metadata": {
    "id": "y8RXtjIMmW7T"
   },
   "outputs": [],
   "source": [
    "pixel_corrected = pixel_corrected(hyena, r1, s1, r2, s2)"
   ]
  },
  {
   "cell_type": "code",
   "execution_count": null,
   "metadata": {
    "colab": {
     "base_uri": "https://localhost:8080/",
     "height": 826
    },
    "id": "MG_7w0PDmaxb",
    "outputId": "bc711d00-acf1-416e-d189-5076759541f7"
   },
   "outputs": [],
   "source": [
    "cv2_imshow(pixel_corrected)"
   ]
  },
  {
   "cell_type": "code",
   "execution_count": null,
   "metadata": {
    "id": "2P_zIkwCRRqp"
   },
   "outputs": [],
   "source": [
    "# Create a simple thresholding operation function\n",
    "def threshold(pix, T):\n",
    "    if pix > T:\n",
    "        return 255\n",
    "    else:\n",
    "        return 0"
   ]
  },
  {
   "cell_type": "code",
   "execution_count": null,
   "metadata": {
    "id": "9JBfdeziSyWv"
   },
   "outputs": [],
   "source": [
    "# Set the threshold parameter\n",
    "T = 180"
   ]
  },
  {
   "cell_type": "code",
   "execution_count": null,
   "metadata": {
    "id": "scNx_u2mRb93"
   },
   "outputs": [],
   "source": [
    "pixel_corrected = np.vectorize(threshold)(hyena,T)"
   ]
  },
  {
   "cell_type": "code",
   "execution_count": null,
   "metadata": {
    "colab": {
     "base_uri": "https://localhost:8080/",
     "height": 826
    },
    "id": "uI8uOVgQRewo",
    "outputId": "0d8287bf-5bf9-40ac-a4b4-e9df49a11fab"
   },
   "outputs": [],
   "source": [
    "cv2_imshow(pixel_corrected)"
   ]
  },
  {
   "cell_type": "code",
   "execution_count": null,
   "metadata": {
    "id": "t5HwHmngSVhA"
   },
   "outputs": [],
   "source": [
    "# Set the thresholding parameters for Binary Thresholding\n",
    "ret, thresh = cv2.threshold(hyena, 100, 325, cv2.THRESH_BINARY)"
   ]
  },
  {
   "cell_type": "code",
   "execution_count": null,
   "metadata": {
    "colab": {
     "base_uri": "https://localhost:8080/",
     "height": 826
    },
    "id": "zVypBNoIteN9",
    "outputId": "5aa58f32-ccd9-49dd-fd7a-1fb6d7db71b7"
   },
   "outputs": [],
   "source": [
    "# Display the image\n",
    "cv2_imshow(thresh)"
   ]
  },
  {
   "cell_type": "code",
   "execution_count": null,
   "metadata": {
    "id": "9Nn7DRnzteLX"
   },
   "outputs": [],
   "source": [
    "# Set the thresholding parameters for Binary Inverse Thresholding\n",
    "ret, thresh = cv2.threshold(hyena, 115, 585, cv2.THRESH_BINARY_INV)"
   ]
  },
  {
   "cell_type": "code",
   "execution_count": null,
   "metadata": {
    "colab": {
     "base_uri": "https://localhost:8080/",
     "height": 826
    },
    "id": "U8bq2F46teIV",
    "outputId": "8d8842ce-0136-499d-b438-4f6f6bdcd128"
   },
   "outputs": [],
   "source": [
    "cv2_imshow(thresh)"
   ]
  },
  {
   "cell_type": "code",
   "execution_count": null,
   "metadata": {
    "id": "gpYzvW2zteF6"
   },
   "outputs": [],
   "source": [
    "# Set the thresholding parameters for Truncate Thresholding\n",
    "ret, thresh = cv2.threshold(hyena, 100, 300, cv2.THRESH_TOZERO)"
   ]
  },
  {
   "cell_type": "code",
   "execution_count": null,
   "metadata": {
    "colab": {
     "base_uri": "https://localhost:8080/",
     "height": 826
    },
    "id": "KdKTlTRNteDV",
    "outputId": "f4610503-16a7-4e5f-a566-4f61fee6a849"
   },
   "outputs": [],
   "source": [
    "cv2_imshow(thresh)"
   ]
  }
 ],
 "metadata": {
  "colab": {
   "provenance": []
  },
  "kernelspec": {
   "display_name": "Python 3",
   "name": "python3"
  },
  "language_info": {
   "name": "python"
  }
 },
 "nbformat": 4,
 "nbformat_minor": 0
}
